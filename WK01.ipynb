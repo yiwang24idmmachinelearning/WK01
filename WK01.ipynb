{
  "cells": [
    {
      "cell_type": "markdown",
      "metadata": {
        "id": "QshK8s21WBrf"
      },
      "source": [
        "# WK01\n",
        "\n",
        "## Getting started with Python syntax"
      ]
    },
    {
      "cell_type": "markdown",
      "metadata": {},
      "source": [
        "### Notebooks\n",
        "\n",
        "Are nice.\n",
        "\n",
        "We can add [Markdown](https://www.markdownguide.org/) code in the `markdonwn` cells to style our text descriptions."
      ]
    },
    {
      "cell_type": "code",
      "execution_count": null,
      "metadata": {},
      "outputs": [],
      "source": [
        "x = \"hello\"\n",
        "print(x)"
      ]
    },
    {
      "cell_type": "markdown",
      "metadata": {
        "id": "7Hf8SXUwWOho"
      },
      "source": [
        "### if / else\n",
        "\n",
        "JavaScript / C++:\n",
        "\n",
        "```js\n",
        "const n = 8;\n",
        "\n",
        "if (n > 10) {\n",
        "  print(\"n is greater than 10\");\n",
        "} else if (n > 5) {\n",
        "  print(\"n is between 5 and 10\");\n",
        "} else {\n",
        "  print(\"n is 5 or less\");\n",
        "}\n",
        "```\n",
        "\n",
        "Python:"
      ]
    },
    {
      "cell_type": "code",
      "execution_count": null,
      "metadata": {},
      "outputs": [],
      "source": [
        "n = 8\n",
        "\n",
        "if n > 10:\n",
        "  print(\"n is greater than 10\")\n",
        "elif n > 5:\n",
        "  print(\"n is between 5 and 10\")\n",
        "else:\n",
        "  print(\"n is 5 or less\")"
      ]
    },
    {
      "cell_type": "markdown",
      "metadata": {},
      "source": [
        "### iterate with counter\n",
        "\n",
        "JavaScript / C++:\n",
        "\n",
        "```js\n",
        "for (let c = 0; c < 10; c++) {\n",
        "  print(c);\n",
        "}\n",
        "\n",
        "for (let c = 10; c < 50; c+=5) {\n",
        "  print(c);\n",
        "}\n",
        "```\n",
        "\n",
        "Python:"
      ]
    },
    {
      "cell_type": "code",
      "execution_count": null,
      "metadata": {},
      "outputs": [],
      "source": [
        "for c in range(10):\n",
        "  print(c)"
      ]
    },
    {
      "cell_type": "code",
      "execution_count": null,
      "metadata": {},
      "outputs": [],
      "source": [
        "for c in range(10, 50, 5):\n",
        "  print(c)"
      ]
    },
    {
      "cell_type": "markdown",
      "metadata": {},
      "source": [
        "### Print all numbers between $100$ and $200$ that end in $3$"
      ]
    },
    {
      "cell_type": "code",
      "execution_count": null,
      "metadata": {},
      "outputs": [],
      "source": [
        "# TODO: Print numbers between 100 and 200 that end in 3\n",
        "for c in range(103, 200, 10):\n",
        "  print(c)"
      ]
    },
    {
      "cell_type": "markdown",
      "metadata": {},
      "source": [
        "### iterate over array/list\n",
        "\n",
        "([Recamán's sequence](https://oeis.org/A005132))\n",
        "\n",
        "JavaScript / C++:\n",
        "\n",
        "```js\n",
        "const array = [ 0, 1, 3, 6, 2, 7, 13, 20, 12, 21, 11, 22 ];\n",
        "\n",
        "for (const i of array) {\n",
        "  print(i);\n",
        "}\n",
        "```\n",
        "\n",
        "Python:"
      ]
    },
    {
      "cell_type": "code",
      "execution_count": null,
      "metadata": {},
      "outputs": [],
      "source": [
        "array = [ 0, 1, 3, 6, 2, 7, 13, 20, 12, 21, 11, 22 ]\n",
        "\n",
        "for i in array:\n",
        "  print(i)"
      ]
    },
    {
      "cell_type": "markdown",
      "metadata": {},
      "source": [
        "### iterate over object\n",
        "\n",
        "JavaScript / C++:\n",
        "\n",
        "```js\n",
        "const obj = {\n",
        "  name: \"thiago\",\n",
        "  id: \"tgh8114\"\n",
        "};\n",
        "\n",
        "for (const [key, val] of Object.entries(obj)) {\n",
        "  print(key, \":\", val);\n",
        "}\n",
        "```\n",
        "\n",
        "Python:"
      ]
    },
    {
      "cell_type": "code",
      "execution_count": null,
      "metadata": {},
      "outputs": [],
      "source": [
        "obj = {\n",
        "  \"name\": \"thiago\",\n",
        "  \"id\": \"tgh8114\"\n",
        "}\n",
        "\n",
        "for key, val in obj.items():\n",
        "  print(key, \":\", val)"
      ]
    },
    {
      "cell_type": "markdown",
      "metadata": {},
      "source": [
        "### iterate over list of objects\n",
        "\n",
        "JavaScript / C++:\n",
        "\n",
        "```js\n",
        "const objs = [{\n",
        "  name: \"thiago\",\n",
        "  id: \"tgh8114\"\n",
        "},\n",
        "{\n",
        "  name: \"lex\",\n",
        "  id: \"lgl2222\"\n",
        "}];\n",
        "\n",
        "for (const obj of objs) {\n",
        "  for (const [key, val] of Object.entries(obj)) {\n",
        "    print(key, \":\", val);\n",
        "  }\n",
        "}\n",
        "```\n",
        "\n",
        "Python:"
      ]
    },
    {
      "cell_type": "code",
      "execution_count": null,
      "metadata": {},
      "outputs": [],
      "source": [
        "objs = [{\n",
        "  \"name\": \"thiago\",\n",
        "  \"id\": \"tgh8114\"\n",
        "},\n",
        "{\n",
        "  \"name\": \"lex\",\n",
        "  \"id\": \"lgl2222\"\n",
        "}]\n",
        "\n",
        "for obj in objs:\n",
        "  for key, val in obj.items():\n",
        "    print(key, \":\", val)"
      ]
    },
    {
      "cell_type": "markdown",
      "metadata": {},
      "source": [
        "Or:"
      ]
    },
    {
      "cell_type": "code",
      "execution_count": null,
      "metadata": {},
      "outputs": [],
      "source": [
        "for k, v in [(key, val) for obj in objs for key, val in obj.items()]:\n",
        "  print(k, \":\", v)"
      ]
    },
    {
      "cell_type": "markdown",
      "metadata": {},
      "source": [
        "## 🤔 😫\n",
        "\n",
        "That last expression is very confusing. We'll break it down and explain it soon."
      ]
    },
    {
      "cell_type": "markdown",
      "metadata": {},
      "source": [
        "### \"list comprehension\": create a list from another list\n",
        "\n",
        "([Catalan numbers](https://oeis.org/A000108))\n",
        "\n",
        "JavaScript / C++:\n",
        "\n",
        "```js\n",
        "const array = [ 1, 1, 2, 5, 14, 42, 132, 429, 1430, 4862 ];\n",
        "const squared = [];\n",
        "\n",
        "for (const i of array) {\n",
        "  squared.push(i * i);\n",
        "}\n",
        "\n",
        "for (const i of squared) {\n",
        "  print(i);\n",
        "}\n",
        "```\n",
        "\n",
        "Python:"
      ]
    },
    {
      "cell_type": "code",
      "execution_count": null,
      "metadata": {},
      "outputs": [],
      "source": [
        "array = [ 1, 1, 2, 5, 14, 42, 132, 429, 1430, 4862 ]\n",
        "squared = []\n",
        "\n",
        "# TODO: build the array of squared values\n",
        "for e in array:\n",
        "  squared.append(e * e)\n",
        "\n",
        "for i in squared:\n",
        "  print(i)"
      ]
    },
    {
      "cell_type": "markdown",
      "metadata": {},
      "source": [
        "To print from both arrays at the same time:"
      ]
    },
    {
      "cell_type": "code",
      "execution_count": null,
      "metadata": {},
      "outputs": [],
      "source": [
        "for idx,i in enumerate(squared):\n",
        "  print(array[idx], \"->\", i)\n",
        "\n",
        "print(\"\\nor\\n\")\n",
        "for i,ii in zip(array, squared):\n",
        "  print(i, \"->\", ii)"
      ]
    },
    {
      "cell_type": "markdown",
      "metadata": {},
      "source": [
        "### \"list comprehension\": create a list from another list\n",
        "\n",
        "([Catalan numbers](https://oeis.org/A000108))\n",
        "\n",
        "JavaScript / C++:\n",
        "\n",
        "```js\n",
        "const array = [ 1, 1, 2, 5, 14, 42, 132, 429, 1430, 4862 ];\n",
        "const squared = array.map(i => i * i);\n",
        "\n",
        "for (const i of squared) {\n",
        "  print(i);\n",
        "}\n",
        "```\n",
        "\n",
        "Python:"
      ]
    },
    {
      "cell_type": "code",
      "execution_count": null,
      "metadata": {},
      "outputs": [],
      "source": [
        "array = [ 1, 1, 2, 5, 14, 42, 132, 429, 1430, 4862 ]\n",
        "squared = [ i * i for i in array ]\n",
        "\n",
        "for i in squared:\n",
        "  print(i)"
      ]
    },
    {
      "cell_type": "markdown",
      "metadata": {},
      "source": [
        "### List Comprehensions\n",
        "\n",
        "<img src=\"./imgs/list-comp-00.jpg\" height=\"150px\"/>"
      ]
    },
    {
      "cell_type": "markdown",
      "metadata": {},
      "source": [
        "### \"list comprehension\": create a list from parts of another list\n",
        "\n",
        "([Catalan numbers](https://oeis.org/A000108))\n",
        "\n",
        "JavaScript / C++:\n",
        "\n",
        "```js\n",
        "const array = [ 1, 1, 2, 5, 14, 42, 132, 429, 1430, 4862 ];\n",
        "const odds = [];\n",
        "\n",
        "for (const i of array) {\n",
        "  if (i % 2 == 1) {\n",
        "    odds.push(i);\n",
        "  }\n",
        "}\n",
        "\n",
        "for (const i of odds) {\n",
        "  print(i);\n",
        "}\n",
        "```\n",
        "\n",
        "Python with for loop:"
      ]
    },
    {
      "cell_type": "code",
      "execution_count": null,
      "metadata": {},
      "outputs": [],
      "source": [
        "array = [ 1, 1, 2, 5, 14, 42, 132, 429, 1430, 4862 ]\n",
        "odds = []\n",
        "\n",
        "for i in array:\n",
        "  if i % 2 == 1:\n",
        "    odds.append(i)\n",
        "\n",
        "for i in odds:\n",
        "  print(i)"
      ]
    },
    {
      "cell_type": "markdown",
      "metadata": {},
      "source": [
        "Python with comprehension:"
      ]
    },
    {
      "cell_type": "code",
      "execution_count": null,
      "metadata": {},
      "outputs": [],
      "source": [
        "array = [ 1, 1, 2, 5, 14, 42, 132, 429, 1430, 4862 ]\n",
        "odds = [ i for i in array if i % 2 == 1 ]\n",
        "\n",
        "for i in odds:\n",
        "  print(i)"
      ]
    },
    {
      "cell_type": "markdown",
      "metadata": {},
      "source": [
        "### List Comprehensions + predicate = Filtering\n",
        "\n",
        "<img src=\"./imgs/list-comp-01.jpg\" height=\"150px\"/>"
      ]
    },
    {
      "cell_type": "markdown",
      "metadata": {},
      "source": [
        "### Filtering: create a list from parts of another list\n",
        "\n",
        "([Catalan numbers](https://oeis.org/A000108))\n",
        "\n",
        "JavaScript / C++:\n",
        "\n",
        "```js\n",
        "const array = [ 1, 1, 2, 5, 14, 42, 132, 429, 1430, 4862 ];\n",
        "const odds = array.filter(i => i % 2 == 1);\n",
        "\n",
        "for (const i of odds) {\n",
        "  print(i);\n",
        "}\n",
        "```"
      ]
    },
    {
      "cell_type": "markdown",
      "metadata": {},
      "source": [
        "### Use comprehension to create a list of values between 100 and 500 that are divisible by 3 and 7\n",
        "\n",
        "JavaScript : && , || , !\n",
        "Python : and, or, not\n",
        "\n"
      ]
    },
    {
      "cell_type": "code",
      "execution_count": null,
      "metadata": {},
      "outputs": [],
      "source": [
        "# TODO: Create a list of values between 100 and 500 that are divisible by 3 and 7\n",
        "div_3_7_list = []\n",
        "\n",
        "for e in range(100,500):\n",
        "  if ((e % 3 == 0) and (e % 7 == 0)):\n",
        "    div_3_7_list.append(e)\n",
        "\n",
        "print(div_3_7_list)"
      ]
    },
    {
      "cell_type": "markdown",
      "metadata": {},
      "source": [
        "### More complex comprehensions:"
      ]
    },
    {
      "cell_type": "code",
      "execution_count": null,
      "metadata": {},
      "outputs": [],
      "source": [
        "objs = [\n",
        "  {\n",
        "    \"name\": \"thiago\",\n",
        "    \"id\": \"tgh8114\",\n",
        "    \"grade\": \"A\"\n",
        "  },\n",
        "  {\n",
        "    \"name\": \"lex\",\n",
        "    \"id\": \"lgl2222\",\n",
        "    \"grade\": \"A+\"\n",
        "  },\n",
        "  {\n",
        "    \"name\": \"flex\",\n",
        "    \"id\": \"flx1234\",\n",
        "    \"grade\": \"B\"\n",
        "  }\n",
        "]\n",
        "\n",
        "for obj in objs:\n",
        "  for key, val in obj.items():\n",
        "    print(key, \":\", val)"
      ]
    },
    {
      "cell_type": "markdown",
      "metadata": {},
      "source": [
        "### Flattening: produces single list\n",
        "\n",
        "```python\n",
        "# 0.\n",
        "for obj in objs:\n",
        "  for key, val in obj.items():\n",
        "```\n",
        "\n",
        "```python\n",
        "# 1.\n",
        "for obj in objs for key, val in obj.items()\n",
        "```\n",
        "\n",
        "```python\n",
        "# 2.\n",
        "[(key, val) for obj in objs for key, val in obj.items()]\n",
        "```"
      ]
    },
    {
      "cell_type": "code",
      "execution_count": null,
      "metadata": {},
      "outputs": [],
      "source": [
        "[(key, val) for obj in objs for key, val in obj.items()]"
      ]
    },
    {
      "cell_type": "markdown",
      "metadata": {},
      "source": [
        "### Non-Flattening: maintains original structure\n",
        "\n",
        "```python\n",
        "# 0.\n",
        "for obj in objs:\n",
        "  for key, val in obj.items():\n",
        "```\n",
        "\n",
        "```python\n",
        "# 1.\n",
        "for key, val in obj.items() for obj in objs\n",
        "```\n",
        "\n",
        "```python\n",
        "# 2.\n",
        "[[for key,val in obj.items()] for obj in objs]\n",
        "```\n",
        "\n",
        "```python\n",
        "# 3.\n",
        "[[(key, val) for key,val in obj.items()] for obj in objs]\n",
        "```"
      ]
    },
    {
      "cell_type": "code",
      "execution_count": null,
      "metadata": {},
      "outputs": [],
      "source": [
        "[[(key, val) for key,val in obj.items()] for obj in objs]"
      ]
    },
    {
      "cell_type": "markdown",
      "metadata": {},
      "source": [
        "Result is a bit repetitive...\n",
        "\n",
        "What if instead we want something like a csv file or spreadsheet?\n",
        "\n",
        "```python\n",
        "[\n",
        "  [\"key\", \"key\", \"key\"],\n",
        "  [\"val0\", \"val0\", \"val0\"],\n",
        "  [\"val1\", \"val1\", \"val1\"],\n",
        "  ...\n",
        "]\n",
        "```"
      ]
    },
    {
      "cell_type": "code",
      "execution_count": null,
      "metadata": {},
      "outputs": [],
      "source": [
        "# TODO: Create list of lists, where first list is a list of key names\n",
        "# and remaining lists have just their values\n",
        "\n",
        "# get list of keys from first element of list\n",
        "all_keys = []\n",
        "for k in objs[0].keys():\n",
        "  all_keys.append(k)\n",
        "\n",
        "# get list of list of values\n",
        "all_values = []\n",
        "for o in objs:\n",
        "  mvals = []\n",
        "  for v in o.values():\n",
        "    mvals.append(v)\n",
        "  all_values.append(mvals)\n",
        "\n",
        "csv = [all_keys] + all_values\n",
        "print(csv)"
      ]
    },
    {
      "cell_type": "markdown",
      "metadata": {},
      "source": [
        "### Or, with comprehensions:"
      ]
    },
    {
      "cell_type": "code",
      "execution_count": null,
      "metadata": {},
      "outputs": [],
      "source": [
        "# TODO: Create list of lists, where first list is a list of key names\n",
        "# and remaining lists have just their values\n",
        "\n",
        "# get list of keys from first element of list\n",
        "all_keys = [k for k in objs[0].keys()]\n",
        "\n",
        "# get list of list of values\n",
        "all_values = [[v for v in o.values()] for o in objs]\n",
        "\n",
        "csv = [all_keys] + all_values\n",
        "print(csv)"
      ]
    },
    {
      "cell_type": "markdown",
      "metadata": {},
      "source": [
        "### Combining lists and objects\n",
        "\n",
        "In Python we can combine multiple lists or objects by using the `+` or `|` operators."
      ]
    },
    {
      "cell_type": "code",
      "execution_count": null,
      "metadata": {},
      "outputs": [],
      "source": [
        "x = [1,2,3,4]\n",
        "y = [5,6,7,8]\n",
        "\n",
        "z = x + y\n",
        "print(z)"
      ]
    },
    {
      "cell_type": "code",
      "execution_count": null,
      "metadata": {},
      "outputs": [],
      "source": [
        "name = {\"name\": \"thiago\"}\n",
        "grade = {\"grade\": \"A\"}\n",
        "zipcode = {\"zip\": 11211}\n",
        "\n",
        "z = name | grade | zipcode\n",
        "print(z)"
      ]
    }
  ],
  "metadata": {
    "colab": {
      "authorship_tag": "ABX9TyPxe2qYxIG7EblrvD1C4Pmv",
      "provenance": []
    },
    "kernelspec": {
      "display_name": "Python 3.9.17 ('hf-model')",
      "language": "python",
      "name": "python3"
    },
    "language_info": {
      "codemirror_mode": {
        "name": "ipython",
        "version": 3
      },
      "file_extension": ".py",
      "mimetype": "text/x-python",
      "name": "python",
      "nbconvert_exporter": "python",
      "pygments_lexer": "ipython3",
      "version": "3.12.1"
    },
    "vscode": {
      "interpreter": {
        "hash": "89e384cab7c47fb35ec95d2248b519cf922ee174880eed636c26cdfb6c4df768"
      }
    }
  },
  "nbformat": 4,
  "nbformat_minor": 0
}
